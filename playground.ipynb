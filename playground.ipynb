{
 "cells": [
  {
   "attachments": {},
   "cell_type": "markdown",
   "metadata": {},
   "source": [
    "untuk mengerjakan challenge pada modul ini:\n",
    "1. fork repository ini kedalam akun github masing-masing (format nama repo: **NIM_Modul-xx**, contoh: *I0320017_Modul-02*)\n",
    "2. clone repository hasil fork kedalam local masing-masing\n",
    "3. pelajari dan modifikasi file ini (playground.ipynb)\n",
    "4. run cell code yang telah dimodifikasi\n",
    "4. commit dan push hasil modifikasi ke repository hasil fork"
   ]
  },
  {
   "attachments": {},
   "cell_type": "markdown",
   "metadata": {},
   "source": [
    "---"
   ]
  },
  {
   "attachments": {},
   "cell_type": "markdown",
   "metadata": {},
   "source": [
    "**# untuk mengerjakan challenge ganti ___ dengan syntax yang sesuai**"
   ]
  },
  {
   "cell_type": "code",
   "execution_count": 4,
   "metadata": {},
   "outputs": [
    {
     "name": "stdout",
     "output_type": "stream",
     "text": [
      "Bilangan kompleks: (2+3j)\n",
      "Bilangan kompleks : (2+3j)\n"
     ]
    }
   ],
   "source": [
    "z = 2 + 3j\n",
    "print(f\"Bilangan kompleks: {z}\")\n",
    "print('Bilangan kompleks :', z)"
   ]
  },
  {
   "cell_type": "code",
   "execution_count": 21,
   "metadata": {},
   "outputs": [
    {
     "name": "stdout",
     "output_type": "stream",
     "text": [
      "bilangan real:2.0\n",
      "bilangan imaginer : 3.0\n"
     ]
    }
   ],
   "source": [
    "z = 2 + 3j\n",
    "real_part = z.real\n",
    "imaginary_part = z.imag\n",
    "print(f\"bilangan real:{real_part}\")\n",
    "print('bilangan imaginer :', imaginary_part)"
   ]
  },
  {
   "cell_type": "code",
   "execution_count": 13,
   "metadata": {},
   "outputs": [
    {
     "name": "stdout",
     "output_type": "stream",
     "text": [
      "band nhc merilis album berjudul you know me too well pada tahun 2020\n",
      "band nhc ngerilis album bernama you know me too well pada tahun 2020\n"
     ]
    },
    {
     "ename": "TypeError",
     "evalue": "can only concatenate str (not \"int\") to str",
     "output_type": "error",
     "traceback": [
      "\u001b[1;31m---------------------------------------------------------------------------\u001b[0m",
      "\u001b[1;31mTypeError\u001b[0m                                 Traceback (most recent call last)",
      "Cell \u001b[1;32mIn[13], line 6\u001b[0m\n\u001b[0;32m      4\u001b[0m \u001b[39mprint\u001b[39m(\u001b[39mf\u001b[39m\u001b[39m\"\u001b[39m\u001b[39mband \u001b[39m\u001b[39m{\u001b[39;00martis\u001b[39m}\u001b[39;00m\u001b[39m merilis album berjudul \u001b[39m\u001b[39m{\u001b[39;00malbum\u001b[39m}\u001b[39;00m\u001b[39m pada tahun \u001b[39m\u001b[39m{\u001b[39;00myear\u001b[39m}\u001b[39;00m\u001b[39m\"\u001b[39m)\n\u001b[0;32m      5\u001b[0m \u001b[39mprint\u001b[39m(\u001b[39m'\u001b[39m\u001b[39mband \u001b[39m\u001b[39m'\u001b[39m \u001b[39m+\u001b[39m artis \u001b[39m+\u001b[39m \u001b[39m'\u001b[39m\u001b[39m ngerilis album bernama \u001b[39m\u001b[39m'\u001b[39m \u001b[39m+\u001b[39m album \u001b[39m+\u001b[39m \u001b[39m'\u001b[39m\u001b[39m pada tahun\u001b[39m\u001b[39m'\u001b[39m, (year)) \u001b[39m#, year karna ini cuma khusus str aja diluar itu masuknya , ()\u001b[39;00m\n\u001b[1;32m----> 6\u001b[0m \u001b[39mprint\u001b[39m(\u001b[39m'\u001b[39;49m\u001b[39mband \u001b[39;49m\u001b[39m'\u001b[39;49m \u001b[39m+\u001b[39;49m artis \u001b[39m+\u001b[39;49m \u001b[39m'\u001b[39;49m\u001b[39m ngerilis album bernama \u001b[39;49m\u001b[39m'\u001b[39;49m \u001b[39m+\u001b[39;49m album \u001b[39m+\u001b[39;49m \u001b[39m'\u001b[39;49m\u001b[39m pada tahun\u001b[39;49m\u001b[39m'\u001b[39;49m \u001b[39m+\u001b[39;49m year) \u001b[39m#error karena year ga setipe string\u001b[39;00m\n",
      "\u001b[1;31mTypeError\u001b[0m: can only concatenate str (not \"int\") to str"
     ]
    }
   ],
   "source": [
    "artis = 'nhc'\n",
    "album = 'you know me too well'\n",
    "year = 2020\n",
    "print(f\"band {artis} merilis album berjudul {album} pada tahun {year}\") #pake f\" (format) dia bisa nyampurin banyak tipe\n",
    "print('band ' + artis + ' ngerilis album bernama ' + album + ' pada tahun', (year)) #, year karna ini cuma khusus str aja diluar itu masuknya , (year)\n",
    "print('band ' + artis + ' ngerilis album bernama ' + album + ' pada tahun' + year) #error karena year ga setipe string"
   ]
  },
  {
   "cell_type": "code",
   "execution_count": 23,
   "metadata": {},
   "outputs": [
    {
     "name": "stdout",
     "output_type": "stream",
     "text": [
      "wawa lahir pada tahun 2003\n"
     ]
    }
   ],
   "source": [
    "year = 2000+ 3\n",
    "name = 'wawa'\n",
    "print(f\"{name} lahir pada tahun {year}\")"
   ]
  },
  {
   "cell_type": "code",
   "execution_count": 17,
   "metadata": {},
   "outputs": [
    {
     "name": "stdout",
     "output_type": "stream",
     "text": [
      "['dua', 3]\n"
     ]
    }
   ],
   "source": [
    "list = [1, 'dua', 3]\n",
    "list.pop(0)\n",
    "print(list) # kok bisa format diatas print kepake sama printnnya?"
   ]
  },
  {
   "cell_type": "code",
   "execution_count": 19,
   "metadata": {},
   "outputs": [
    {
     "name": "stdout",
     "output_type": "stream",
     "text": [
      "(1, 3, 7, 6, 1)\n"
     ]
    }
   ],
   "source": [
    "tuple = (1,3,7,6,1)\n",
    "tuple.count(1)\n",
    "print(tuple) # dia gabisa nerjemahin format diatas print kaya code atasnya ini"
   ]
  },
  {
   "cell_type": "code",
   "execution_count": 20,
   "metadata": {},
   "outputs": [
    {
     "name": "stdout",
     "output_type": "stream",
     "text": [
      "2\n"
     ]
    }
   ],
   "source": [
    "tuple = (1,3,7,6,1)\n",
    "print(tuple.count(1)) # bisanya format didalem print"
   ]
  },
  {
   "attachments": {},
   "cell_type": "markdown",
   "metadata": {},
   "source": [
    "PALING BENER print(format yg mau diinput) daripada bingung ada yang bisa kepake ada yg gabisa"
   ]
  },
  {
   "cell_type": "code",
   "execution_count": 25,
   "metadata": {},
   "outputs": [
    {
     "name": "stdout",
     "output_type": "stream",
     "text": [
      "{'nama': 'dendy', 'umur': '21', 'Nama': 'wawa'}\n"
     ]
    }
   ],
   "source": [
    "#setdefault \n",
    "#dict kosong\n",
    "data = {}\n",
    "#nambah kunci 'nama' dengan nilai 'dendy'\n",
    "data.setdefault('nama', 'dendy')\n",
    "#nambah kunci 'umur' dengan nilai 21\n",
    "data.setdefault('umur', '21')\n",
    "#nambah kunci nama lagi GAAKAN PENGARUH KARNA SUDAH ADA KUNCI SEBELUMNYA\n",
    "data.setdefault('nama', 'wawa')\n",
    "#HOW IF nambahin kunci Nama (n besar)\n",
    "#masuk kunci baru karna secara penulisan beda\n",
    "data.setdefault('Nama', 'wawa')\n",
    "print(data)"
   ]
  },
  {
   "cell_type": "code",
   "execution_count": 27,
   "metadata": {},
   "outputs": [
    {
     "name": "stdout",
     "output_type": "stream",
     "text": [
      "{'nama': 'wawa', 'umur': 21, 'alamat': 'wonogiri'}\n",
      "{'nama': 'awa', 'umur': 21, 'alamat': 'wonogiri'}\n"
     ]
    }
   ],
   "source": [
    "#update\n",
    "data = {'nama': 'wawa', 'umur': 21}\n",
    "#nambah dict baru\n",
    "data.update({'alamat': 'wonogiri'})\n",
    "print(data)\n",
    "#ganti data\n",
    "data.update({'nama': 'awa'})\n",
    "print(data)"
   ]
  },
  {
   "cell_type": "code",
   "execution_count": 32,
   "metadata": {},
   "outputs": [
    {
     "name": "stdout",
     "output_type": "stream",
     "text": [
      "21\n",
      "{'nama': 'wawa'}\n"
     ]
    }
   ],
   "source": [
    "#dict.pop\n",
    "data = {'nama': 'wawa', 'umur': 21}\n",
    "hapusUmur = data.pop('umur')\n",
    "print(hapusUmur) \n",
    "print(data)\n",
    "#dia harus begini formatnya weh, gabisa kalo yg print(format)"
   ]
  },
  {
   "attachments": {},
   "cell_type": "markdown",
   "metadata": {},
   "source": [
    "## Input"
   ]
  },
  {
   "cell_type": "code",
   "execution_count": 31,
   "metadata": {},
   "outputs": [
    {
     "name": "stdout",
     "output_type": "stream",
     "text": [
      "Halo, wawa\n"
     ]
    }
   ],
   "source": [
    "nama = input(\"Masukkan nama: \")\n",
    "print(\"Halo, \" + nama)"
   ]
  },
  {
   "cell_type": "code",
   "execution_count": 3,
   "metadata": {},
   "outputs": [
    {
     "name": "stdout",
     "output_type": "stream",
     "text": [
      "ID: 125\n"
     ]
    }
   ],
   "source": [
    "# challenge 1\n",
    "# masukkan id pada input sesuai dengan tipe data yang sudah ditentukan\n",
    "id = int(input(\"Masukkan ID: \"))\n",
    "print(\"ID: \" + str(id))"
   ]
  },
  {
   "attachments": {},
   "cell_type": "markdown",
   "metadata": {},
   "source": [
    "## Tipe Data"
   ]
  },
  {
   "cell_type": "code",
   "execution_count": 2,
   "metadata": {},
   "outputs": [
    {
     "name": "stdout",
     "output_type": "stream",
     "text": [
      "<class 'str'>\n",
      "<class 'int'>\n",
      "<class 'str'>\n"
     ]
    }
   ],
   "source": [
    "nama = \"POSI\"\n",
    "tahun = 2020\n",
    "print(type(nama))\n",
    "print(type(tahun))\n",
    "print(type(\"TI UNS\"))"
   ]
  },
  {
   "attachments": {},
   "cell_type": "markdown",
   "metadata": {},
   "source": [
    "### 1. Numerik"
   ]
  },
  {
   "attachments": {},
   "cell_type": "markdown",
   "metadata": {},
   "source": [
    "#### a. Integer\n"
   ]
  },
  {
   "cell_type": "code",
   "execution_count": null,
   "metadata": {},
   "outputs": [
    {
     "name": "stdout",
     "output_type": "stream",
     "text": [
      "15\n",
      "5\n"
     ]
    }
   ],
   "source": [
    "a = 10\n",
    "b = 5\n",
    "print(a + b)\n",
    "print(a - b)"
   ]
  },
  {
   "cell_type": "code",
   "execution_count": 16,
   "metadata": {},
   "outputs": [
    {
     "name": "stdout",
     "output_type": "stream",
     "text": [
      "Too high\n",
      "Too low\n"
     ]
    }
   ],
   "source": [
    "x = 10\n",
    "user = int(input(\"Enter a number: \"))\n",
    "\n",
    "while user != x:\n",
    "    if user > x:\n",
    "        print(\"Too high\")\n",
    "    elif user < x:\n",
    "        print(\"Too low\")\n",
    "    else:\n",
    "        print(\"Number correct\")\n",
    "    user = int(input(\"Enter a number: \"))"
   ]
  },
  {
   "cell_type": "code",
   "execution_count": 17,
   "metadata": {},
   "outputs": [
    {
     "name": "stdout",
     "output_type": "stream",
     "text": [
      "10 pangkat 3 = 1000\n"
     ]
    }
   ],
   "source": [
    "# challenge 2\n",
    "x = 10\n",
    "y = 3\n",
    "\n",
    "command = int(input(\"Masukkan command: \"))\n",
    "if command == 1:\n",
    "    print(f\"{x} pangkat {y} = {x ** y}\") # output seharusnya 1000\n",
    "else:\n",
    "    print(\"Command tidak dikenali\")\n"
   ]
  },
  {
   "attachments": {},
   "cell_type": "markdown",
   "metadata": {},
   "source": [
    "#### b. Float\n"
   ]
  },
  {
   "cell_type": "code",
   "execution_count": 38,
   "metadata": {},
   "outputs": [
    {
     "name": "stdout",
     "output_type": "stream",
     "text": [
      "harga total adalah 26500.0 rupiah\n",
      "harga total adalah 26500.0 ribu rupiah\n"
     ]
    }
   ],
   "source": [
    "mie_iblis = 13.5\n",
    "udang_keju = 13\n",
    "total = (13.5 + 13)*1000\n",
    "print(f\"harga total adalah {total} rupiah\")\n",
    "print(\"harga total adalah {} ribu rupiah\".format((mie_iblis + udang_keju)*1000))"
   ]
  },
  {
   "cell_type": "code",
   "execution_count": 4,
   "metadata": {},
   "outputs": [
    {
     "name": "stdout",
     "output_type": "stream",
     "text": [
      "x ceil = 121.6\n"
     ]
    }
   ],
   "source": [
    "x = 121.5689\n",
    "# dibulatkan ke atas\n",
    "print(\"x ceil = {:.1f}\".format(x))"
   ]
  },
  {
   "cell_type": "code",
   "execution_count": 1,
   "metadata": {},
   "outputs": [
    {
     "name": "stdout",
     "output_type": "stream",
     "text": [
      "x + y = 241.0\n"
     ]
    }
   ],
   "source": [
    "# challenge 3\n",
    "# modifikasi value x dan y\n",
    "x = 120.5\n",
    "y = 120.5\n",
    "print(f\"x + y = {x + y}\") # x + y should be 241"
   ]
  },
  {
   "attachments": {},
   "cell_type": "markdown",
   "metadata": {},
   "source": [
    "#### c. Complex"
   ]
  },
  {
   "cell_type": "code",
   "execution_count": 2,
   "metadata": {},
   "outputs": [
    {
     "name": "stdout",
     "output_type": "stream",
     "text": [
      "2.0\n",
      "3.0\n"
     ]
    }
   ],
   "source": [
    "#2 as bilangan real\n",
    "#3j as bilangan imajiner\n",
    "z = 2+3j\n",
    "print(z.real)\n",
    "print(z.imag)"
   ]
  },
  {
   "attachments": {},
   "cell_type": "markdown",
   "metadata": {},
   "source": [
    "### 2. String"
   ]
  },
  {
   "cell_type": "code",
   "execution_count": null,
   "metadata": {},
   "outputs": [
    {
     "name": "stdout",
     "output_type": "stream",
     "text": [
      "Arctic Monkeys released AM in 2013\n"
     ]
    }
   ],
   "source": [
    "artist = \"Arctic Monkeys\"\n",
    "album = \"AM\"\n",
    "year = 2013\n",
    "print(f\"{artist} released {album} in {year}\")"
   ]
  },
  {
   "cell_type": "code",
   "execution_count": null,
   "metadata": {},
   "outputs": [
    {
     "name": "stdout",
     "output_type": "stream",
     "text": [
      "Access granted\n"
     ]
    }
   ],
   "source": [
    "password = \"imperiale2022\"\n",
    "\n",
    "pwd = input(\"Enter password: \")\n",
    "if pwd.lower() == password:\n",
    "    print(\"Access granted\")\n",
    "else:\n",
    "    print(\"Access denied\")"
   ]
  },
  {
   "attachments": {},
   "cell_type": "markdown",
   "metadata": {},
   "source": [
    "### 3. Sequence"
   ]
  },
  {
   "attachments": {},
   "cell_type": "markdown",
   "metadata": {},
   "source": [
    "#### a. List"
   ]
  },
  {
   "cell_type": "code",
   "execution_count": 22,
   "metadata": {},
   "outputs": [
    {
     "name": "stdout",
     "output_type": "stream",
     "text": [
      "1\n",
      "['dua', 3.0]\n",
      "['a', 'b', 'c']\n",
      "b\n"
     ]
    }
   ],
   "source": [
    "#dalem list itu isinya indeks mulai 0\n",
    "ini_list = [1, \"dua\", 3.0, \"empat\", \"decimal\", [\"a\", \"b\", \"c\"]] #abc itu list dalam list, indeksnya juga mulai dari 0\n",
    "print(ini_list[0])\n",
    "print(ini_list[1:3]) #indeks satu sampai sebelum 3\n",
    "print(ini_list[-1]) #minus dimulai dari belakang dimulai dari indeks -1\n",
    "print(ini_list[5][1]) #indeks 5, karena dlm indeks 5 ada list lagi jadi indeks 1 nya indeks 5"
   ]
  },
  {
   "cell_type": "code",
   "execution_count": 26,
   "metadata": {},
   "outputs": [
    {
     "name": "stdout",
     "output_type": "stream",
     "text": [
      "[9, 7, 5, 3, 1]\n"
     ]
    }
   ],
   "source": [
    "# challenge 4\n",
    "list2 = [1, 2, 3, 4, 5, 6, 7, 8, 9, 10]\n",
    "print(list2[8::-2]) \n",
    "# output seharusnya [9, 7, 5, 3, 1]"
   ]
  },
  {
   "cell_type": "code",
   "execution_count": 7,
   "metadata": {},
   "outputs": [
    {
     "name": "stdout",
     "output_type": "stream",
     "text": [
      "['John', 25, 'orange', True, 3.14, 'apple']\n",
      "['John', 'orange', True, 3.14, 'apple']\n",
      "['John', 'orange', True, 'apple']\n"
     ]
    }
   ],
   "source": [
    "# challenge 5\n",
    "ls = [\"John\", 25, True, 3.14, \"apple\"]\n",
    "\n",
    "ls.insert(2,\"orange\") #masukin elemen ke indeks berapa\n",
    "print(ls) # Output: ['John', 25, 'orange', True, 3.14, 'apple']\n",
    "\n",
    "ls.remove(25) #hapus pake elemen\n",
    "print(ls)\n",
    "\n",
    "ls.pop(-2) #hapus pake indeksnya\n",
    "print(ls)"
   ]
  },
  {
   "attachments": {},
   "cell_type": "markdown",
   "metadata": {},
   "source": [
    "#### b. Tuple"
   ]
  },
  {
   "cell_type": "code",
   "execution_count": null,
   "metadata": {},
   "outputs": [
    {
     "name": "stdout",
     "output_type": "stream",
     "text": [
      "1\n",
      "2\n",
      "3\n"
     ]
    }
   ],
   "source": [
    "# menghitung elemen yg ada di indeks\n",
    "ini_tuple = (1, \"dua\", 3.0, \"empat\", \"decimal\", [\"a\", \"b\", \"c\"], 1)\n",
    "print(ini_tuple[0])\n",
    "print(ini_tuple.count(1))       # dalem kurung pake elemen, output 1= ada berapa banyak di indeks\n",
    "print(ini_tuple.index(\"empat\")) # dalem kurung pake elemen, output dia indeks keberapa"
   ]
  },
  {
   "attachments": {},
   "cell_type": "markdown",
   "metadata": {},
   "source": [
    "### 4. Dictionary"
   ]
  },
  {
   "cell_type": "code",
   "execution_count": 1,
   "metadata": {},
   "outputs": [],
   "source": [
    "employee = {\n",
    "    'name': 'Erik',\n",
    "    'age': 53,\n",
    "    'address': 'Jl. Mangkunegaran 10',\n",
    "    'hobbies': ['reading', 'swimming', 'travelling'],\n",
    "    'is_married': True,\n",
    "    'children': {\n",
    "    'son': 'Ethan',\n",
    "    'daughter': 'Emily'\n",
    "    }\n",
    "}"
   ]
  },
  {
   "cell_type": "code",
   "execution_count": 2,
   "metadata": {},
   "outputs": [
    {
     "name": "stdout",
     "output_type": "stream",
     "text": [
      "Samuel\n"
     ]
    }
   ],
   "source": [
    "# challenge 6\n",
    "# ubah value dari key 'name' menjadi 'Samuel'\n",
    "employee['name'] = \"Samuel\"\n",
    "print(employee['name'])"
   ]
  },
  {
   "cell_type": "code",
   "execution_count": 12,
   "metadata": {},
   "outputs": [
    {
     "name": "stdout",
     "output_type": "stream",
     "text": [
      "20\n"
     ]
    }
   ],
   "source": [
    "# challenge 7\n",
    "# ubah value dari key 'age' menjadi 20 berdasatkan input user\n",
    "employee = {\n",
    "    'name': 'Erik',\n",
    "    'age': 53,\n",
    "    'address': 'Jl. Mangkunegaran 10',\n",
    "    'hobbies': ['reading', 'swimming', 'travelling'],\n",
    "    'is_married': True,\n",
    "    'children': {\n",
    "    'son': 'Ethan',\n",
    "    'daughter': 'Emily'\n",
    "    }\n",
    "}\n",
    "employee['age'] = int(input(\"masukkan umur : \"))\n",
    "print(employee['age'])"
   ]
  },
  {
   "attachments": {},
   "cell_type": "markdown",
   "metadata": {},
   "source": [
    "CHALLENGE PAS PROKOM"
   ]
  },
  {
   "cell_type": "code",
   "execution_count": 13,
   "metadata": {},
   "outputs": [
    {
     "name": "stdout",
     "output_type": "stream",
     "text": [
      "suhu dalam fahrenheit: 212.0 F\n"
     ]
    }
   ],
   "source": [
    "# konversi dari celcius ke fahrenheit\n",
    "suhu = int(input(\"masukkan suhu dalam celcius: \"))\n",
    "fahrenheit = (9/5) * suhu + 32\n",
    "print(f\"suhu dalam fahrenheit: {fahrenheit} F\")"
   ]
  },
  {
   "cell_type": "code",
   "execution_count": 15,
   "metadata": {},
   "outputs": [
    {
     "name": "stdout",
     "output_type": "stream",
     "text": [
      "suhu dalam fahrenheit: 212.0 F\n"
     ]
    }
   ],
   "source": [
    "# konversi dari kelvin ke fahrenheit\n",
    "suhu_kelvin = int(input(\"masukkan suhu dalam kelvin: \"))\n",
    "fahrenheit = (9/5) * (suhu_kelvin - 273) + 32\n",
    "print(f\"suhu dalam fahrenheit: {fahrenheit} F\")"
   ]
  },
  {
   "cell_type": "code",
   "execution_count": null,
   "metadata": {},
   "outputs": [],
   "source": [
    "IMPERIALE2022 = {\n",
    "    'Kelas A' : {\n",
    "    'anggota 1' : \n",
    "    }\n",
    "}"
   ]
  }
 ],
 "metadata": {
  "kernelspec": {
   "display_name": "Python 3",
   "language": "python",
   "name": "python3"
  },
  "language_info": {
   "codemirror_mode": {
    "name": "ipython",
    "version": 3
   },
   "file_extension": ".py",
   "mimetype": "text/x-python",
   "name": "python",
   "nbconvert_exporter": "python",
   "pygments_lexer": "ipython3",
   "version": "3.10.8"
  },
  "orig_nbformat": 4,
  "vscode": {
   "interpreter": {
    "hash": "229cdfb8eedfa4964725b7eb0da8d7a63b25d97a6ab808f09bd6b506844c0629"
   }
  }
 },
 "nbformat": 4,
 "nbformat_minor": 2
}
